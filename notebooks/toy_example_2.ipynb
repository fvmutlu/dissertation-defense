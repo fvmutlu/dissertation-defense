{
 "cells": [
  {
   "cell_type": "code",
   "execution_count": null,
   "metadata": {},
   "outputs": [],
   "source": [
    "import matplotlib.pyplot as plt\n",
    "import numpy as np\n",
    "from numpy.random import default_rng\n",
    "from collections import defaultdict\n",
    "import simpy as sp\n",
    "\n",
    "plt.rcParams['text.usetex'] = True"
   ]
  },
  {
   "cell_type": "code",
   "execution_count": null,
   "metadata": {},
   "outputs": [],
   "source": [
    "def harmonic(N, s):\n",
    "    harmonic_sum = 0\n",
    "    for k in range(1,N+1):\n",
    "        harmonic_sum += 1/(k**s)\n",
    "    return harmonic_sum\n",
    "\n",
    "def zipf(k, N, s):\n",
    "    return 1 / (harmonic(N,s) * k**s)\n",
    "\n",
    "def avgPackets(cap,rate):\n",
    "    return rate/(cap-rate)\n",
    "\n",
    "def offlineReqGen(N, R, zipf_param, exp_rate):\n",
    "    rng = default_rng(123)\n",
    "    prob_dist = [zipf(k, N, zipf_param) for k in range(1,N+1)]\n",
    "    intervals = []\n",
    "    objects = []\n",
    "    timestamps = defaultdict(list)\n",
    "    r = 0\n",
    "    while r < R:\n",
    "        intervals.append(rng.exponential(1/exp_rate))\n",
    "        objects.append(rng.choice(np.arange(1,N+1), p = prob_dist))\n",
    "        r += 1\n",
    "    interval_cumsum = np.cumsum(intervals)\n",
    "    for ts, obj in zip(interval_cumsum, objects):\n",
    "        timestamps[obj].append(ts)\n",
    "    for obj in timestamps:\n",
    "        timestamps[obj].reverse()\n",
    "    return intervals, timestamps, objects\n"
   ]
  },
  {
   "cell_type": "code",
   "execution_count": 29,
   "metadata": {},
   "outputs": [
    {
     "name": "stdout",
     "output_type": "stream",
     "text": [
      "36.576795369748815 43.36619374120521\n"
     ]
    }
   ],
   "source": [
    "env = sp.Environment()\n",
    "serverLink = sp.Resource(env, 1)\n",
    "linkRate = 100\n",
    "serverDelay = 0\n",
    "cacheLink = sp.Resource(env, 1)\n",
    "cache = []\n",
    "cacheRate = 100\n",
    "cacheCap = 50\n",
    "cacheDelay = 0\n",
    "intervals, timestamps, objects = offlineReqGen(1000, 5000, 0.75, 100)\n",
    "\n",
    "def serverProcess(obj):\n",
    "    global serverDelay\n",
    "    with serverLink.request() as request:\n",
    "        tic = env.now\n",
    "        yield request\n",
    "        yield env.timeout(1/linkRate)\n",
    "        toc = env.now\n",
    "        cacheDecision(obj)\n",
    "        serverDelay += toc - tic\n",
    "    return\n",
    "\n",
    "def cacheProcess():\n",
    "    global cacheDelay\n",
    "    with cacheLink.request() as request:\n",
    "        tic = env.now\n",
    "        yield request\n",
    "        yield env.timeout(1/cacheRate)\n",
    "        toc = env.now\n",
    "        cacheDelay += toc - tic\n",
    "    return\n",
    "\n",
    "def cacheDecision(obj):\n",
    "    if len(cache) < cacheCap:\n",
    "        cache.append(obj)\n",
    "        return\n",
    "    victim_timestamp = 0\n",
    "    victim = None\n",
    "    for pot_victim in cache:\n",
    "        if len(timestamps[pot_victim]) == 0:\n",
    "            victim = pot_victim\n",
    "            break\n",
    "        next_timestamp = timestamps[pot_victim][-1]\n",
    "        if next_timestamp > victim_timestamp:\n",
    "            victim = pot_victim\n",
    "            victim_timestamp = next_timestamp\n",
    "    cache.remove(victim)\n",
    "    cache.append(obj)\n",
    "\n",
    "def requestProcess():\n",
    "    for interval, obj in zip(intervals, objects):\n",
    "        yield env.timeout(interval)\n",
    "        ts = timestamps[obj].pop()\n",
    "        if obj in cache:\n",
    "            env.process(cacheProcess())\n",
    "        else:\n",
    "            env.process(serverProcess(obj))\n",
    "\n",
    "env.process(requestProcess())\n",
    "env.run(until=150)\n",
    "\n",
    "print(cacheDelay, serverDelay)"
   ]
  }
 ],
 "metadata": {
  "kernelspec": {
   "display_name": "multi-tier",
   "language": "python",
   "name": "python3"
  },
  "language_info": {
   "codemirror_mode": {
    "name": "ipython",
    "version": 3
   },
   "file_extension": ".py",
   "mimetype": "text/x-python",
   "name": "python",
   "nbconvert_exporter": "python",
   "pygments_lexer": "ipython3",
   "version": "3.10.12"
  },
  "orig_nbformat": 4
 },
 "nbformat": 4,
 "nbformat_minor": 2
}
