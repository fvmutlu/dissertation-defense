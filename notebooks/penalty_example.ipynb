{
 "cells": [
  {
   "cell_type": "code",
   "execution_count": null,
   "metadata": {},
   "outputs": [],
   "source": [
    "import matplotlib.pyplot as plt\n",
    "import numpy as np\n",
    "\n",
    "plt.rcParams['text.usetex'] = True\n",
    "\n",
    "def harmonic(N, s):\n",
    "    harmonic_sum = 0\n",
    "    for k in range(1,N+1):\n",
    "        harmonic_sum += 1/(k**s)\n",
    "    return harmonic_sum\n",
    "\n",
    "def zipf(k, N, s):\n",
    "    return 1 / (harmonic(N,s) * k**s)\n",
    "\n",
    "def avgPackets(cap,rate):\n",
    "    return rate/(cap-rate)"
   ]
  }
 ],
 "metadata": {
  "language_info": {
   "name": "python"
  },
  "orig_nbformat": 4
 },
 "nbformat": 4,
 "nbformat_minor": 2
}
