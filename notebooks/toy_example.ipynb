{
 "cells": [
  {
   "cell_type": "markdown",
   "metadata": {},
   "source": [
    "Import relevant packages and define helper functions"
   ]
  },
  {
   "cell_type": "code",
   "execution_count": null,
   "metadata": {},
   "outputs": [],
   "source": [
    "import matplotlib.pyplot as plt\n",
    "import networkx as nx\n",
    "import numpy as np\n",
    "\n",
    "plt.rcParams['text.usetex'] = True\n",
    "\n",
    "def harmonic(N, s):\n",
    "    harmonic_sum = 0\n",
    "    for k in range(1,N+1):\n",
    "        harmonic_sum += 1/(k**s)\n",
    "    return harmonic_sum\n",
    "\n",
    "def zipf(k, N, s):\n",
    "    return 1 / (harmonic(N,s) * k**s)\n",
    "\n",
    "def avgPackets(cap,rate):\n",
    "    return rate/(cap-rate)"
   ]
  },
  {
   "cell_type": "markdown",
   "metadata": {},
   "source": [
    "Draw example service network topology"
   ]
  },
  {
   "cell_type": "code",
   "execution_count": null,
   "metadata": {},
   "outputs": [],
   "source": [
    "edges = [['s', 'f'], ['f', 'n']]\n",
    "G = nx.Graph()\n",
    "G.add_edges_from(edges)\n",
    "pos = {'s':[-0.5,0],'f':[0,0],'n':[0.5,0]}\n",
    "\n",
    "fig, ax = plt.subplots(figsize=(6, 1))\n",
    "ax.margins(0,0)  # Adjust the margins as needed\n",
    "\n",
    "nx.draw(\n",
    "    G, pos, ax=ax, edge_color='black', width=2, linewidths=2,\n",
    "    node_size=500, node_color='red', alpha=1,\n",
    "    labels={node: node for node in G.nodes()}, font_size=14\n",
    ")\n",
    "label_pos = {}\n",
    "for node, coords in pos.items():\n",
    "    label_pos[node] = (coords[0], coords[1] + 0.015)\n",
    "\n",
    "nx.draw_networkx_edge_labels(\n",
    "    G, label_pos,\n",
    "    edge_labels={('s', 'f'): r'$C_{sf} = 100 \\; pkts/sec$', \n",
    "                 ('f', 'n'): r'$C_{fn} = \\infty, \\; \\forall n \\in \\mathcal{N}_{c}$'},\n",
    "    font_color='black', font_size=14, bbox={'alpha':0}\n",
    ")\n",
    "plt.savefig(\"../Repos/proposal-review/images/toynet.svg\",bbox_inches='tight',pad_inches=0)"
   ]
  },
  {
   "cell_type": "markdown",
   "metadata": {},
   "source": [
    "Draw example service network topology with cache tiers"
   ]
  },
  {
   "cell_type": "code",
   "execution_count": null,
   "metadata": {},
   "outputs": [],
   "source": [
    "edges = [['s', 'f'], ['f', 'n'], ['f','1'], ['f','2'], ['f','3']]\n",
    "G = nx.Graph()\n",
    "G.add_edges_from(edges)\n",
    "pos = {'s':[-0.75,0],'f':[0,0], 'n':[0.75,0], '1':[-0.5,-0.25], '2':[0,-0.25], '3':[0.5,-0.25]}\n",
    "\n",
    "fig, ax = plt.subplots(figsize=(9.6, 3.6))\n",
    "ax.margins(0.15)  # Adjust the margins as needed\n",
    "\n",
    "edge_colors = ['k','k','g','g','g']\n",
    "nx.draw(\n",
    "    G, pos, ax=ax, edge_color=edge_colors, width=2, linewidths=2,\n",
    "    node_size=500, node_color='red', alpha=1,\n",
    "    labels={node: node for node in G.nodes()}, font_size=14\n",
    ")\n",
    "label_pos = {}\n",
    "for node, coords in pos.items():\n",
    "    label_pos[node] = (coords[0], coords[1] + 0.02)\n",
    "nx.draw_networkx_edge_labels(\n",
    "    G, label_pos,\n",
    "    edge_labels={('s', 'f'): r'$C_{sf} = 100 \\; pkts/sec$', \n",
    "                 ('f', 'n'): r'$C_{fn} = \\infty, \\; \\forall n \\in \\mathcal{N}_{c}$'\n",
    "                 },\n",
    "    font_color='black', font_size=14, bbox={'alpha':0}\n",
    ")\n",
    "for node, coords in pos.items():\n",
    "    label_pos[node] = (coords[0], coords[1] + 0.03)\n",
    "nx.draw_networkx_edge_labels(\n",
    "    G, label_pos, label_pos=0.45,\n",
    "    edge_labels={('f','1'): r'$r_{f_1} = 100 \\; pkts/sec$',\n",
    "                 ('f','3'): r'$r_{f_3} = 10 \\; pkts/sec$'},\n",
    "    font_color='black', font_size=14, bbox={'alpha':0}\n",
    ")\n",
    "label_pos['f'] = (0.045,0)\n",
    "label_pos['2'] = (0.045,-0.25)\n",
    "nx.draw_networkx_edge_labels(\n",
    "    G, label_pos, edge_labels={('f','2'): r'$r_{f_2} = 25 \\; pkts/sec$'}, font_color='black', font_size=14, bbox={'alpha':0}\n",
    ")\n",
    "ax.text(-0.65,-0.3,s=r'$L_{f_1}=10 \\; pkts$', fontsize=14)\n",
    "ax.text(-0.15,-0.3,s=r'$L_{f_2}=30 \\; pkts$', fontsize=14)\n",
    "ax.text(0.35,-0.3,s=r'$L_{f_3}=60 \\; pkts$', fontsize=14)\n",
    "plt.savefig(\"../Repos/proposal-review/images/toynet_cache.svg\",bbox_inches='tight',pad_inches=0)"
   ]
  },
  {
   "cell_type": "code",
   "execution_count": null,
   "metadata": {},
   "outputs": [],
   "source": [
    "N = 1000\n",
    "s = 0.75\n",
    "x = list(range(1,N+1))\n",
    "pdf = [zipf(k, N, s) for k in x]\n",
    "y = np.cumsum(pdf) # CDF"
   ]
  },
  {
   "cell_type": "code",
   "execution_count": null,
   "metadata": {},
   "outputs": [],
   "source": [
    "plt.plot(x,y)\n",
    "plt.xlabel(\"Object Rank\",fontsize=16)\n",
    "plt.ylabel(\"Cumulative Probability\",fontsize=16)\n",
    "plt.title(r\"Zipf's Law CDF ($|\\mathcal{K}|=1000$, $\\alpha=0.75$)\",fontsize=16)\n",
    "plt.scatter(x[9], y[9], c='red', marker='x', s=75)\n",
    "plt.arrow(x[9], y[9], N*0.1, 0, color='red')\n",
    "plt.text(x[9]+(N*0.11), y[9]-0.02, f\"10 objects, {round(100*y[9],1)}\\%\",fontsize=14)\n",
    "plt.scatter(x[49], y[49], c='green', marker='x', s=75)\n",
    "plt.arrow(x[49], y[49], N*0.1, 0, color='green')\n",
    "plt.text(x[49]+(N*0.11), y[49]-0.02, f\"50 objects, {round(100*y[49],1)}\\%\",fontsize=14)\n",
    "plt.scatter(x[99], y[99], c='black', marker='x', s=75)\n",
    "plt.arrow(x[99], y[99], N*0.1, 0, color='black')\n",
    "plt.text(x[99]+(N*0.11), y[99]-0.02, f\"100 objects, {round(100*y[99],1)}\\%\",fontsize=14)\n",
    "plt.savefig(\"../Repos/proposal-review/images/zipf_1k.svg\")"
   ]
  },
  {
   "cell_type": "code",
   "execution_count": null,
   "metadata": {},
   "outputs": [],
   "source": [
    "request_rate = list(range(100))\n",
    "cache_caps = [5,10,25,50,100]\n",
    "link_cap = 100\n",
    "for cap in cache_caps:\n",
    "    prob = y[cap-1]\n",
    "    hits = [prob*rate for rate in request_rate]\n",
    "    fwd_rate = [request_rate[i]-hits[i] for i in range(100)] \n",
    "    delay = [fwd_rate[i]/(link_cap-fwd_rate[i]) for i in range(100)]\n",
    "    plt.plot(request_rate,delay,linewidth=2)\n",
    "plt.xlabel(\"Request Rate at Forwarder, \"+r\"$\\lambda$\"+\" (requests/sec)\",fontsize=16)\n",
    "plt.ylabel(r\"Avg. \\# of Pkts on Link $(a,b)$\",fontsize=16)\n",
    "plt.title(f\"Impact of Cache Size on Delay\",fontsize=16)\n",
    "plt.legend([r\"$L_f$ = 5 pkts\",r\"$L_f$ = 10 pkts\",r\"$L_f$ = 25 pkts\",r\"$L_f$ = 50 pkts\",r\"$L_f$ = 100 pkts\"],fontsize=16)\n",
    "plt.savefig(\"../Repos/proposal-review/images/cache_size.svg\")\n"
   ]
  },
  {
   "cell_type": "code",
   "execution_count": null,
   "metadata": {},
   "outputs": [],
   "source": [
    "def avgDelayVsRate(request_rate, link_cap, cache_caps, cache_speeds, cdf):\n",
    "    cache_caps_cumsum = np.cumsum(cache_caps)\n",
    "    probs = []\n",
    "    for i in range(len(cache_caps)):\n",
    "        if i == 0:\n",
    "            probs.append(cdf[cache_caps_cumsum[0]-1])\n",
    "        else:\n",
    "            probs.append(cdf[cache_caps_cumsum[i]-1] - sum(probs))\n",
    "    tot_delay = []\n",
    "    for rate in request_rate:\n",
    "        hits = [probs[i]*rate for i in range(len(cache_caps))]\n",
    "        cache_delays = [avgPackets(cache_speeds[i],hits[i]) for i in range(len(cache_caps))]\n",
    "        fwd_rate = rate - sum(hits)\n",
    "        link_delay = avgPackets(link_cap,fwd_rate)\n",
    "        tot_delay.append(sum(cache_delays)+link_delay)\n",
    "    return tot_delay"
   ]
  },
  {
   "cell_type": "code",
   "execution_count": null,
   "metadata": {},
   "outputs": [],
   "source": [
    "request_rate = list(range(100))\n",
    "link_cap = 100\n",
    "cache_caps = [10]\n",
    "cache_speeds = [100]\n",
    "tot_delay = avgDelayVsRate(request_rate, link_cap, cache_caps, cache_speeds, y)\n",
    "plt.plot(request_rate,tot_delay,linewidth=2)\n",
    "cache_caps = [10,50]\n",
    "cache_speeds = [100,50]\n",
    "tot_delay = avgDelayVsRate(request_rate, link_cap, cache_caps, cache_speeds, y)\n",
    "plt.plot(request_rate,tot_delay,linewidth=2)\n",
    "plt.legend([\"Tier 1\", \"Tier 1 + Tier 2\"], fontsize=16)\n",
    "plt.xlabel(\"Request Rate at Forwarder, \"+r\"$\\lambda$\"+\" (requests/sec)\",fontsize=16)\n",
    "plt.ylabel(r\"Avg. \\# of Total Pkts in Flight\",fontsize=16)\n",
    "plt.title(f\"Impact of Adding Caches on Delay\",fontsize=16)\n",
    "plt.savefig(\"../Repos/proposal-review/images/two_tiers.svg\")\n"
   ]
  },
  {
   "cell_type": "code",
   "execution_count": null,
   "metadata": {},
   "outputs": [],
   "source": [
    "request_rate = list(range(100))\n",
    "link_cap = 100\n",
    "cache_caps = [10]\n",
    "cache_speeds = [100]\n",
    "tot_delay = avgDelayVsRate(request_rate, link_cap, cache_caps, cache_speeds, y)\n",
    "plt.plot(request_rate,tot_delay,linewidth=2)\n",
    "cache_caps = [10,50]\n",
    "cache_speeds = [100,50]\n",
    "tot_delay = avgDelayVsRate(request_rate, link_cap, cache_caps, cache_speeds, y)\n",
    "plt.plot(request_rate,tot_delay,linewidth=2)\n",
    "cache_caps = [10,50,50]\n",
    "cache_speeds = [100,50,25]\n",
    "tot_delay = avgDelayVsRate(request_rate, link_cap, cache_caps, cache_speeds, y)\n",
    "plt.plot(request_rate,tot_delay,linewidth=2)\n",
    "plt.legend([\"Tier 1\", \"Tier 1 + Tier 2\", \"Tier 1 + Tier 2 + Tier 3\"], fontsize=16)\n",
    "plt.xlabel(\"Request Rate at Forwarder, \"+r\"$\\lambda$\"+\" (requests/sec)\",fontsize=16)\n",
    "plt.ylabel(r\"Avg. \\# of Total Pkts in Flight\",fontsize=16)\n",
    "plt.title(f\"Impact of Adding Caches on Delay\",fontsize=16)\n",
    "plt.savefig(\"../Repos/proposal-review/images/three_tiers.svg\")"
   ]
  }
 ],
 "metadata": {
  "kernelspec": {
   "display_name": "analysis",
   "language": "python",
   "name": "python3"
  },
  "language_info": {
   "codemirror_mode": {
    "name": "ipython",
    "version": 3
   },
   "file_extension": ".py",
   "mimetype": "text/x-python",
   "name": "python",
   "nbconvert_exporter": "python",
   "pygments_lexer": "ipython3",
   "version": "3.10.12"
  },
  "orig_nbformat": 4
 },
 "nbformat": 4,
 "nbformat_minor": 2
}
